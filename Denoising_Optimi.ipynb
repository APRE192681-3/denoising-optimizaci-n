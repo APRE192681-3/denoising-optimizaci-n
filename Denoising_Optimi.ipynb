{
  "nbformat": 4,
  "nbformat_minor": 0,
  "metadata": {
    "colab": {
      "provenance": [],
      "authorship_tag": "ABX9TyMdnm8Rv/nULlSRO8Zz7fg5",
      "include_colab_link": true
    },
    "kernelspec": {
      "name": "python3",
      "display_name": "Python 3"
    },
    "language_info": {
      "name": "python"
    }
  },
  "cells": [
    {
      "cell_type": "markdown",
      "metadata": {
        "id": "view-in-github",
        "colab_type": "text"
      },
      "source": [
        "<a href=\"https://colab.research.google.com/github/APRE192681-3/denoising-optimizaci-n/blob/main/Denoising_Optimi.ipynb\" target=\"_parent\"><img src=\"https://colab.research.google.com/assets/colab-badge.svg\" alt=\"Open In Colab\"/></a>"
      ]
    },
    {
      "cell_type": "code",
      "execution_count": null,
      "metadata": {
        "colab": {
          "base_uri": "https://localhost:8080/"
        },
        "id": "fGpOB1vbrXc3",
        "outputId": "a6ccd563-6253-4428-b496-50a2d6657977"
      },
      "outputs": [
        {
          "output_type": "stream",
          "name": "stdout",
          "text": [
            "Hola aquí chambiare para el proyecto de optmi\n"
          ]
        }
      ],
      "source": [
        "print (\"Hola aquí chambiare para el proyecto de optmi\")"
      ]
    }
  ]
}